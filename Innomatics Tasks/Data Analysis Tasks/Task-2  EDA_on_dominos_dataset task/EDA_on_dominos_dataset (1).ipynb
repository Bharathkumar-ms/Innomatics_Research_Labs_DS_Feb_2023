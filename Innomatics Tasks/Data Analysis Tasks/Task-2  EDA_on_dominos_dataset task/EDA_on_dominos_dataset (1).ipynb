{
 "cells": [
  {
   "cell_type": "code",
   "execution_count": 2,
   "metadata": {
    "id": "im7b6eZ7nt3m"
   },
   "outputs": [],
   "source": [
    "#import libraries\n",
    "import pandas as pd\n",
    "import numpy as np\n",
    "import seaborn as sns\n",
    "import matplotlib.pyplot as plt\n",
    "\n",
    "%matplotlib inline"
   ]
  },
  {
   "cell_type": "code",
   "execution_count": 3,
   "metadata": {
    "colab": {
     "base_uri": "https://localhost:8080/",
     "height": 206
    },
    "id": "GXlWL0fvn5Lr",
    "outputId": "c70d4ec5-da8e-424d-a0fa-82e35fa26ef3"
   },
   "outputs": [
    {
     "data": {
      "text/html": [
       "<div>\n",
       "<style scoped>\n",
       "    .dataframe tbody tr th:only-of-type {\n",
       "        vertical-align: middle;\n",
       "    }\n",
       "\n",
       "    .dataframe tbody tr th {\n",
       "        vertical-align: top;\n",
       "    }\n",
       "\n",
       "    .dataframe thead th {\n",
       "        text-align: right;\n",
       "    }\n",
       "</style>\n",
       "<table border=\"1\" class=\"dataframe\">\n",
       "  <thead>\n",
       "    <tr style=\"text-align: right;\">\n",
       "      <th></th>\n",
       "      <th>order_id</th>\n",
       "      <th>order_placed_at</th>\n",
       "      <th>order_delivered_at</th>\n",
       "    </tr>\n",
       "  </thead>\n",
       "  <tbody>\n",
       "    <tr>\n",
       "      <th>0</th>\n",
       "      <td>1523111</td>\n",
       "      <td>2023-03-01 00:00:59</td>\n",
       "      <td>2023-03-01 00:18:07.443132</td>\n",
       "    </tr>\n",
       "    <tr>\n",
       "      <th>1</th>\n",
       "      <td>1523112</td>\n",
       "      <td>2023-03-01 00:03:59</td>\n",
       "      <td>2023-03-01 00:19:34.925241</td>\n",
       "    </tr>\n",
       "    <tr>\n",
       "      <th>2</th>\n",
       "      <td>1523113</td>\n",
       "      <td>2023-03-01 00:07:22</td>\n",
       "      <td>2023-03-01 00:22:28.291385</td>\n",
       "    </tr>\n",
       "    <tr>\n",
       "      <th>3</th>\n",
       "      <td>1523114</td>\n",
       "      <td>2023-03-01 00:07:47</td>\n",
       "      <td>2023-03-01 00:46:19.019399</td>\n",
       "    </tr>\n",
       "    <tr>\n",
       "      <th>4</th>\n",
       "      <td>1523115</td>\n",
       "      <td>2023-03-01 00:09:03</td>\n",
       "      <td>2023-03-01 00:25:13.619056</td>\n",
       "    </tr>\n",
       "  </tbody>\n",
       "</table>\n",
       "</div>"
      ],
      "text/plain": [
       "   order_id      order_placed_at          order_delivered_at\n",
       "0   1523111  2023-03-01 00:00:59  2023-03-01 00:18:07.443132\n",
       "1   1523112  2023-03-01 00:03:59  2023-03-01 00:19:34.925241\n",
       "2   1523113  2023-03-01 00:07:22  2023-03-01 00:22:28.291385\n",
       "3   1523114  2023-03-01 00:07:47  2023-03-01 00:46:19.019399\n",
       "4   1523115  2023-03-01 00:09:03  2023-03-01 00:25:13.619056"
      ]
     },
     "execution_count": 3,
     "metadata": {},
     "output_type": "execute_result"
    }
   ],
   "source": [
    "df = pd.read_csv(r\"C:\\Users\\bhara\\Downloads\\diminos_data.csv\")\n",
    "df.head()"
   ]
  },
  {
   "cell_type": "code",
   "execution_count": 4,
   "metadata": {
    "colab": {
     "base_uri": "https://localhost:8080/"
    },
    "id": "D-BkqcgKoZCR",
    "outputId": "718d168c-8282-4dc1-89d8-ae322fd258ff"
   },
   "outputs": [
    {
     "data": {
      "text/plain": [
       "(15000, 3)"
      ]
     },
     "execution_count": 4,
     "metadata": {},
     "output_type": "execute_result"
    }
   ],
   "source": [
    "#ROws and columns in dataset\n",
    "df.shape"
   ]
  },
  {
   "cell_type": "code",
   "execution_count": 5,
   "metadata": {
    "colab": {
     "base_uri": "https://localhost:8080/"
    },
    "id": "Ly7FNS4ro0DU",
    "outputId": "9514a8ef-f7b8-4123-8d54-92a9c399926c"
   },
   "outputs": [
    {
     "name": "stdout",
     "output_type": "stream",
     "text": [
      "<class 'pandas.core.frame.DataFrame'>\n",
      "RangeIndex: 15000 entries, 0 to 14999\n",
      "Data columns (total 3 columns):\n",
      " #   Column              Non-Null Count  Dtype \n",
      "---  ------              --------------  ----- \n",
      " 0   order_id            15000 non-null  int64 \n",
      " 1   order_placed_at     15000 non-null  object\n",
      " 2   order_delivered_at  15000 non-null  object\n",
      "dtypes: int64(1), object(2)\n",
      "memory usage: 351.7+ KB\n"
     ]
    }
   ],
   "source": [
    "#Basic info about the dataset\n",
    "df.info()\n"
   ]
  },
  {
   "cell_type": "code",
   "execution_count": 6,
   "metadata": {
    "colab": {
     "base_uri": "https://localhost:8080/"
    },
    "id": "5_pH2fv7o4-5",
    "outputId": "7bf97d3f-a3ec-4d59-a551-af052ac4a178"
   },
   "outputs": [
    {
     "data": {
      "text/plain": [
       "order_id              0\n",
       "order_placed_at       0\n",
       "order_delivered_at    0\n",
       "dtype: int64"
      ]
     },
     "execution_count": 6,
     "metadata": {},
     "output_type": "execute_result"
    }
   ],
   "source": [
    "#Missing values\n",
    "df.isnull().sum()"
   ]
  },
  {
   "cell_type": "code",
   "execution_count": 7,
   "metadata": {
    "colab": {
     "base_uri": "https://localhost:8080/"
    },
    "id": "hclf5z4Qo_D0",
    "outputId": "43b22cbf-aa69-4154-846f-704528c8af4c"
   },
   "outputs": [
    {
     "data": {
      "text/plain": [
       "0"
      ]
     },
     "execution_count": 7,
     "metadata": {},
     "output_type": "execute_result"
    }
   ],
   "source": [
    "#Duplicated value\n",
    "df.duplicated().sum()"
   ]
  },
  {
   "cell_type": "markdown",
   "metadata": {
    "id": "LUtXIT0zpVF7"
   },
   "source": [
    "#Feature engineering on feature  'order_placed_at', 'order_delivered_at'\n"
   ]
  },
  {
   "cell_type": "code",
   "execution_count": 8,
   "metadata": {
    "id": "zepSetPepZOS"
   },
   "outputs": [],
   "source": [
    "df['order_placed_at']=pd.to_datetime(df['order_placed_at'])\n",
    "df['order_delivered_at']=pd.to_datetime(df['order_delivered_at'])"
   ]
  },
  {
   "cell_type": "code",
   "execution_count": 9,
   "metadata": {
    "id": "PeN7mbbdEBOq"
   },
   "outputs": [],
   "source": [
    "df['time_taken_for_delivery'] = df['order_delivered_at'] - df['order_placed_at']\n",
    "df['time_taken_for_delivery'] = df['time_taken_for_delivery']/np.timedelta64(1,'m')"
   ]
  },
  {
   "cell_type": "code",
   "execution_count": 10,
   "metadata": {
    "colab": {
     "base_uri": "https://localhost:8080/"
    },
    "id": "QxnQ5RFnpqik",
    "outputId": "5dbefc66-e652-4a28-e485-504fa6e80cc2"
   },
   "outputs": [
    {
     "data": {
      "text/plain": [
       "order_id                            int64\n",
       "order_placed_at            datetime64[ns]\n",
       "order_delivered_at         datetime64[ns]\n",
       "time_taken_for_delivery           float64\n",
       "dtype: object"
      ]
     },
     "execution_count": 10,
     "metadata": {},
     "output_type": "execute_result"
    }
   ],
   "source": [
    "df.dtypes"
   ]
  },
  {
   "cell_type": "code",
   "execution_count": 11,
   "metadata": {
    "id": "B5pArT7ftGQO"
   },
   "outputs": [],
   "source": [
    "df['order_placed_date']=df['order_placed_at'].dt.date"
   ]
  },
  {
   "cell_type": "code",
   "execution_count": 12,
   "metadata": {
    "id": "f2RJhC1BtV7b"
   },
   "outputs": [],
   "source": [
    "df['order_placed_time']=df['order_placed_at'].dt.time"
   ]
  },
  {
   "cell_type": "code",
   "execution_count": 13,
   "metadata": {
    "id": "WbzFehUhtXJ6"
   },
   "outputs": [],
   "source": [
    "df['order_delivered_date']=df['order_delivered_at'].dt.date"
   ]
  },
  {
   "cell_type": "code",
   "execution_count": 14,
   "metadata": {
    "id": "7nshyYNTtpWT"
   },
   "outputs": [],
   "source": [
    "df['order_delivered_time']=df['order_delivered_at'].dt.time"
   ]
  },
  {
   "cell_type": "code",
   "execution_count": 15,
   "metadata": {
    "colab": {
     "base_uri": "https://localhost:8080/",
     "height": 206
    },
    "id": "JI86q1P4773h",
    "outputId": "9d516a0d-9deb-436b-d2bd-345744b4f03b"
   },
   "outputs": [
    {
     "data": {
      "text/html": [
       "<div>\n",
       "<style scoped>\n",
       "    .dataframe tbody tr th:only-of-type {\n",
       "        vertical-align: middle;\n",
       "    }\n",
       "\n",
       "    .dataframe tbody tr th {\n",
       "        vertical-align: top;\n",
       "    }\n",
       "\n",
       "    .dataframe thead th {\n",
       "        text-align: right;\n",
       "    }\n",
       "</style>\n",
       "<table border=\"1\" class=\"dataframe\">\n",
       "  <thead>\n",
       "    <tr style=\"text-align: right;\">\n",
       "      <th></th>\n",
       "      <th>order_id</th>\n",
       "      <th>order_placed_at</th>\n",
       "      <th>order_delivered_at</th>\n",
       "      <th>time_taken_for_delivery</th>\n",
       "      <th>order_placed_date</th>\n",
       "      <th>order_placed_time</th>\n",
       "      <th>order_delivered_date</th>\n",
       "      <th>order_delivered_time</th>\n",
       "    </tr>\n",
       "  </thead>\n",
       "  <tbody>\n",
       "    <tr>\n",
       "      <th>0</th>\n",
       "      <td>1523111</td>\n",
       "      <td>2023-03-01 00:00:59</td>\n",
       "      <td>2023-03-01 00:18:07.443132</td>\n",
       "      <td>17.140719</td>\n",
       "      <td>2023-03-01</td>\n",
       "      <td>00:00:59</td>\n",
       "      <td>2023-03-01</td>\n",
       "      <td>00:18:07.443132</td>\n",
       "    </tr>\n",
       "    <tr>\n",
       "      <th>1</th>\n",
       "      <td>1523112</td>\n",
       "      <td>2023-03-01 00:03:59</td>\n",
       "      <td>2023-03-01 00:19:34.925241</td>\n",
       "      <td>15.598754</td>\n",
       "      <td>2023-03-01</td>\n",
       "      <td>00:03:59</td>\n",
       "      <td>2023-03-01</td>\n",
       "      <td>00:19:34.925241</td>\n",
       "    </tr>\n",
       "    <tr>\n",
       "      <th>2</th>\n",
       "      <td>1523113</td>\n",
       "      <td>2023-03-01 00:07:22</td>\n",
       "      <td>2023-03-01 00:22:28.291385</td>\n",
       "      <td>15.104856</td>\n",
       "      <td>2023-03-01</td>\n",
       "      <td>00:07:22</td>\n",
       "      <td>2023-03-01</td>\n",
       "      <td>00:22:28.291385</td>\n",
       "    </tr>\n",
       "    <tr>\n",
       "      <th>3</th>\n",
       "      <td>1523114</td>\n",
       "      <td>2023-03-01 00:07:47</td>\n",
       "      <td>2023-03-01 00:46:19.019399</td>\n",
       "      <td>38.533657</td>\n",
       "      <td>2023-03-01</td>\n",
       "      <td>00:07:47</td>\n",
       "      <td>2023-03-01</td>\n",
       "      <td>00:46:19.019399</td>\n",
       "    </tr>\n",
       "    <tr>\n",
       "      <th>4</th>\n",
       "      <td>1523115</td>\n",
       "      <td>2023-03-01 00:09:03</td>\n",
       "      <td>2023-03-01 00:25:13.619056</td>\n",
       "      <td>16.176984</td>\n",
       "      <td>2023-03-01</td>\n",
       "      <td>00:09:03</td>\n",
       "      <td>2023-03-01</td>\n",
       "      <td>00:25:13.619056</td>\n",
       "    </tr>\n",
       "  </tbody>\n",
       "</table>\n",
       "</div>"
      ],
      "text/plain": [
       "   order_id     order_placed_at         order_delivered_at  \\\n",
       "0   1523111 2023-03-01 00:00:59 2023-03-01 00:18:07.443132   \n",
       "1   1523112 2023-03-01 00:03:59 2023-03-01 00:19:34.925241   \n",
       "2   1523113 2023-03-01 00:07:22 2023-03-01 00:22:28.291385   \n",
       "3   1523114 2023-03-01 00:07:47 2023-03-01 00:46:19.019399   \n",
       "4   1523115 2023-03-01 00:09:03 2023-03-01 00:25:13.619056   \n",
       "\n",
       "   time_taken_for_delivery order_placed_date order_placed_time  \\\n",
       "0                17.140719        2023-03-01          00:00:59   \n",
       "1                15.598754        2023-03-01          00:03:59   \n",
       "2                15.104856        2023-03-01          00:07:22   \n",
       "3                38.533657        2023-03-01          00:07:47   \n",
       "4                16.176984        2023-03-01          00:09:03   \n",
       "\n",
       "  order_delivered_date order_delivered_time  \n",
       "0           2023-03-01      00:18:07.443132  \n",
       "1           2023-03-01      00:19:34.925241  \n",
       "2           2023-03-01      00:22:28.291385  \n",
       "3           2023-03-01      00:46:19.019399  \n",
       "4           2023-03-01      00:25:13.619056  "
      ]
     },
     "execution_count": 15,
     "metadata": {},
     "output_type": "execute_result"
    }
   ],
   "source": [
    "df.head()"
   ]
  },
  {
   "cell_type": "markdown",
   "metadata": {
    "id": "2iBJkwA34kkk"
   },
   "source": [
    "Creating New Feature called time_period which will help to traffic of deliveries during differeent period of day"
   ]
  },
  {
   "cell_type": "code",
   "execution_count": 16,
   "metadata": {
    "id": "3j8BSzyPwWfH"
   },
   "outputs": [],
   "source": [
    "#time_period feature\n",
    "df['time_period'] = df['order_placed_at'].apply(lambda x: \"late night\" if x.hour > 1 and x.hour <= 4 else (\"Morning\" if x.hour > 4 and x.hour <= 12 else (\"Afternoon\" if x.hour > 12 and x.hour <= 16 else (\"Evening\" if x.hour > 16 and x.hour <=19 else \"night\"))))"
   ]
  },
  {
   "cell_type": "code",
   "execution_count": 17,
   "metadata": {
    "colab": {
     "base_uri": "https://localhost:8080/",
     "height": 206
    },
    "id": "-YYi7VCtwWkY",
    "outputId": "196e27b2-72cb-4151-bd26-4458d7ce11c3"
   },
   "outputs": [
    {
     "data": {
      "text/html": [
       "<div>\n",
       "<style scoped>\n",
       "    .dataframe tbody tr th:only-of-type {\n",
       "        vertical-align: middle;\n",
       "    }\n",
       "\n",
       "    .dataframe tbody tr th {\n",
       "        vertical-align: top;\n",
       "    }\n",
       "\n",
       "    .dataframe thead th {\n",
       "        text-align: right;\n",
       "    }\n",
       "</style>\n",
       "<table border=\"1\" class=\"dataframe\">\n",
       "  <thead>\n",
       "    <tr style=\"text-align: right;\">\n",
       "      <th></th>\n",
       "      <th>order_id</th>\n",
       "      <th>order_placed_at</th>\n",
       "      <th>order_delivered_at</th>\n",
       "      <th>time_taken_for_delivery</th>\n",
       "      <th>order_placed_date</th>\n",
       "      <th>order_placed_time</th>\n",
       "      <th>order_delivered_date</th>\n",
       "      <th>order_delivered_time</th>\n",
       "      <th>time_period</th>\n",
       "    </tr>\n",
       "  </thead>\n",
       "  <tbody>\n",
       "    <tr>\n",
       "      <th>0</th>\n",
       "      <td>1523111</td>\n",
       "      <td>2023-03-01 00:00:59</td>\n",
       "      <td>2023-03-01 00:18:07.443132</td>\n",
       "      <td>17.140719</td>\n",
       "      <td>2023-03-01</td>\n",
       "      <td>00:00:59</td>\n",
       "      <td>2023-03-01</td>\n",
       "      <td>00:18:07.443132</td>\n",
       "      <td>night</td>\n",
       "    </tr>\n",
       "    <tr>\n",
       "      <th>1</th>\n",
       "      <td>1523112</td>\n",
       "      <td>2023-03-01 00:03:59</td>\n",
       "      <td>2023-03-01 00:19:34.925241</td>\n",
       "      <td>15.598754</td>\n",
       "      <td>2023-03-01</td>\n",
       "      <td>00:03:59</td>\n",
       "      <td>2023-03-01</td>\n",
       "      <td>00:19:34.925241</td>\n",
       "      <td>night</td>\n",
       "    </tr>\n",
       "    <tr>\n",
       "      <th>2</th>\n",
       "      <td>1523113</td>\n",
       "      <td>2023-03-01 00:07:22</td>\n",
       "      <td>2023-03-01 00:22:28.291385</td>\n",
       "      <td>15.104856</td>\n",
       "      <td>2023-03-01</td>\n",
       "      <td>00:07:22</td>\n",
       "      <td>2023-03-01</td>\n",
       "      <td>00:22:28.291385</td>\n",
       "      <td>night</td>\n",
       "    </tr>\n",
       "    <tr>\n",
       "      <th>3</th>\n",
       "      <td>1523114</td>\n",
       "      <td>2023-03-01 00:07:47</td>\n",
       "      <td>2023-03-01 00:46:19.019399</td>\n",
       "      <td>38.533657</td>\n",
       "      <td>2023-03-01</td>\n",
       "      <td>00:07:47</td>\n",
       "      <td>2023-03-01</td>\n",
       "      <td>00:46:19.019399</td>\n",
       "      <td>night</td>\n",
       "    </tr>\n",
       "    <tr>\n",
       "      <th>4</th>\n",
       "      <td>1523115</td>\n",
       "      <td>2023-03-01 00:09:03</td>\n",
       "      <td>2023-03-01 00:25:13.619056</td>\n",
       "      <td>16.176984</td>\n",
       "      <td>2023-03-01</td>\n",
       "      <td>00:09:03</td>\n",
       "      <td>2023-03-01</td>\n",
       "      <td>00:25:13.619056</td>\n",
       "      <td>night</td>\n",
       "    </tr>\n",
       "  </tbody>\n",
       "</table>\n",
       "</div>"
      ],
      "text/plain": [
       "   order_id     order_placed_at         order_delivered_at  \\\n",
       "0   1523111 2023-03-01 00:00:59 2023-03-01 00:18:07.443132   \n",
       "1   1523112 2023-03-01 00:03:59 2023-03-01 00:19:34.925241   \n",
       "2   1523113 2023-03-01 00:07:22 2023-03-01 00:22:28.291385   \n",
       "3   1523114 2023-03-01 00:07:47 2023-03-01 00:46:19.019399   \n",
       "4   1523115 2023-03-01 00:09:03 2023-03-01 00:25:13.619056   \n",
       "\n",
       "   time_taken_for_delivery order_placed_date order_placed_time  \\\n",
       "0                17.140719        2023-03-01          00:00:59   \n",
       "1                15.598754        2023-03-01          00:03:59   \n",
       "2                15.104856        2023-03-01          00:07:22   \n",
       "3                38.533657        2023-03-01          00:07:47   \n",
       "4                16.176984        2023-03-01          00:09:03   \n",
       "\n",
       "  order_delivered_date order_delivered_time time_period  \n",
       "0           2023-03-01      00:18:07.443132       night  \n",
       "1           2023-03-01      00:19:34.925241       night  \n",
       "2           2023-03-01      00:22:28.291385       night  \n",
       "3           2023-03-01      00:46:19.019399       night  \n",
       "4           2023-03-01      00:25:13.619056       night  "
      ]
     },
     "execution_count": 17,
     "metadata": {},
     "output_type": "execute_result"
    }
   ],
   "source": [
    "df.head()"
   ]
  },
  {
   "cell_type": "code",
   "execution_count": 18,
   "metadata": {
    "colab": {
     "base_uri": "https://localhost:8080/"
    },
    "id": "w_UIWk_M4-BC",
    "outputId": "03a30d9c-57b1-4415-ed1e-bd7a605f7a8c",
    "scrolled": true
   },
   "outputs": [
    {
     "data": {
      "text/plain": [
       "Morning       5002\n",
       "night         3785\n",
       "Afternoon     2452\n",
       "Evening       1889\n",
       "late night    1872\n",
       "Name: time_period, dtype: int64"
      ]
     },
     "execution_count": 18,
     "metadata": {},
     "output_type": "execute_result"
    }
   ],
   "source": [
    "#countplot for time_period feature\n",
    "df['time_period'].value_counts()"
   ]
  },
  {
   "cell_type": "code",
   "execution_count": 20,
   "metadata": {
    "scrolled": true
   },
   "outputs": [
    {
     "data": {
      "image/png": "[encoded data removed]",
      "text/plain": [
       "<Figure size 432x288 with 1 Axes>"
      ]
     },
     "metadata": {
      "needs_background": "light"
     },
     "output_type": "display_data"
    }
   ],
   "source": [
    "# Visualize time periods during which most orders are placed\n",
    "sns.countplot(x='time_period', data=df)\n",
    "plt.title('Order Count by Time Period')\n",
    "plt.show()"
   ]
  },
  {
   "cell_type": "code",
   "execution_count": 25,
   "metadata": {
    "scrolled": true
   },
   "outputs": [
    {
     "data": {
      "image/png": "[encoded data removed]",
      "text/plain": [
       "<Figure size 1296x1008 with 1 Axes>"
      ]
     },
     "metadata": {
      "needs_background": "light"
     },
     "output_type": "display_data"
    }
   ],
   "source": [
    "# Set the figure size and font size\n",
    "plt.rcParams[\"figure.figsize\"] = [18, 14]\n",
    "plt.rcParams.update({'font.size': 14})\n",
    "# Visualize days of the week during which most orders are placed\n",
    "sns.countplot(x='order_placed_date', data=df)\n",
    "plt.title('Order Count by Day of Week')\n",
    "# Rotate x-axis labels\n",
    "plt.xticks(rotation=90)\n",
    "\n",
    "plt.show()"
   ]
  },
  {
   "cell_type": "code",
   "execution_count": 27,
   "metadata": {
    "scrolled": false
   },
   "outputs": [
    {
     "data": {
      "image/png": "[encoded data removed]",
      "text/plain": [
       "<Figure size 1296x1008 with 1 Axes>"
      ]
     },
     "metadata": {
      "needs_background": "light"
     },
     "output_type": "display_data"
    }
   ],
   "source": [
    "# Visualize delivery times\n",
    "sns.histplot(x='time_taken_for_delivery', data=df, bins=30)\n",
    "plt.title('Delivery Time Distribution')\n",
    "plt.show()"
   ]
  },
  {
   "cell_type": "code",
   "execution_count": 29,
   "metadata": {
    "colab": {
     "base_uri": "https://localhost:8080/",
     "height": 467
    },
    "id": "harmZv-c4-D6",
    "outputId": "5952462b-1035-4f68-d1d9-58b6df662512"
   },
   "outputs": [
    {
     "data": {
      "text/plain": [
       "<AxesSubplot:xlabel='time_period', ylabel='Count'>"
      ]
     },
     "execution_count": 29,
     "metadata": {},
     "output_type": "execute_result"
    },
    {
     "data": {
      "image/png": "[encoded data removed]",
      "text/plain": [
       "<Figure size 1296x1008 with 1 Axes>"
      ]
     },
     "metadata": {
      "needs_background": "light"
     },
     "output_type": "display_data"
    }
   ],
   "source": [
    "sns.histplot(df['time_period'])"
   ]
  },
  {
   "cell_type": "markdown",
   "metadata": {
    "id": "AR2vnmGi6D32"
   },
   "source": [
    "# Insights\n",
    "* during 4am to 12pm (morning) around 5002 orders are placed\n",
    "* follwed by 3785 at night and 2452 at afternoon\n",
    "\n",
    " ### **conclusion** \n",
    " We can put more delivery boys for morning and afternoon shift"
   ]
  },
  {
   "cell_type": "markdown",
   "metadata": {
    "id": "1AgGcjGG8E0j"
   },
   "source": [
    "Dropping feature order_placed_at and order_delivered_at"
   ]
  },
  {
   "cell_type": "code",
   "execution_count": 30,
   "metadata": {
    "id": "NvRXsLsR4g-b"
   },
   "outputs": [],
   "source": [
    "df.drop(['order_placed_at', 'order_delivered_at'], axis=1, inplace=True)"
   ]
  },
  {
   "cell_type": "code",
   "execution_count": 31,
   "metadata": {
    "colab": {
     "base_uri": "https://localhost:8080/",
     "height": 206
    },
    "id": "HjIKUaOi8kx3",
    "outputId": "1ca1d4db-84f2-48b6-bb8f-57841b9f8994"
   },
   "outputs": [
    {
     "data": {
      "text/html": [
       "<div>\n",
       "<style scoped>\n",
       "    .dataframe tbody tr th:only-of-type {\n",
       "        vertical-align: middle;\n",
       "    }\n",
       "\n",
       "    .dataframe tbody tr th {\n",
       "        vertical-align: top;\n",
       "    }\n",
       "\n",
       "    .dataframe thead th {\n",
       "        text-align: right;\n",
       "    }\n",
       "</style>\n",
       "<table border=\"1\" class=\"dataframe\">\n",
       "  <thead>\n",
       "    <tr style=\"text-align: right;\">\n",
       "      <th></th>\n",
       "      <th>order_id</th>\n",
       "      <th>time_taken_for_delivery</th>\n",
       "      <th>order_placed_date</th>\n",
       "      <th>order_placed_time</th>\n",
       "      <th>order_delivered_date</th>\n",
       "      <th>order_delivered_time</th>\n",
       "      <th>time_period</th>\n",
       "    </tr>\n",
       "  </thead>\n",
       "  <tbody>\n",
       "    <tr>\n",
       "      <th>0</th>\n",
       "      <td>1523111</td>\n",
       "      <td>17.140719</td>\n",
       "      <td>2023-03-01</td>\n",
       "      <td>00:00:59</td>\n",
       "      <td>2023-03-01</td>\n",
       "      <td>00:18:07.443132</td>\n",
       "      <td>night</td>\n",
       "    </tr>\n",
       "    <tr>\n",
       "      <th>1</th>\n",
       "      <td>1523112</td>\n",
       "      <td>15.598754</td>\n",
       "      <td>2023-03-01</td>\n",
       "      <td>00:03:59</td>\n",
       "      <td>2023-03-01</td>\n",
       "      <td>00:19:34.925241</td>\n",
       "      <td>night</td>\n",
       "    </tr>\n",
       "    <tr>\n",
       "      <th>2</th>\n",
       "      <td>1523113</td>\n",
       "      <td>15.104856</td>\n",
       "      <td>2023-03-01</td>\n",
       "      <td>00:07:22</td>\n",
       "      <td>2023-03-01</td>\n",
       "      <td>00:22:28.291385</td>\n",
       "      <td>night</td>\n",
       "    </tr>\n",
       "    <tr>\n",
       "      <th>3</th>\n",
       "      <td>1523114</td>\n",
       "      <td>38.533657</td>\n",
       "      <td>2023-03-01</td>\n",
       "      <td>00:07:47</td>\n",
       "      <td>2023-03-01</td>\n",
       "      <td>00:46:19.019399</td>\n",
       "      <td>night</td>\n",
       "    </tr>\n",
       "    <tr>\n",
       "      <th>4</th>\n",
       "      <td>1523115</td>\n",
       "      <td>16.176984</td>\n",
       "      <td>2023-03-01</td>\n",
       "      <td>00:09:03</td>\n",
       "      <td>2023-03-01</td>\n",
       "      <td>00:25:13.619056</td>\n",
       "      <td>night</td>\n",
       "    </tr>\n",
       "  </tbody>\n",
       "</table>\n",
       "</div>"
      ],
      "text/plain": [
       "   order_id  time_taken_for_delivery order_placed_date order_placed_time  \\\n",
       "0   1523111                17.140719        2023-03-01          00:00:59   \n",
       "1   1523112                15.598754        2023-03-01          00:03:59   \n",
       "2   1523113                15.104856        2023-03-01          00:07:22   \n",
       "3   1523114                38.533657        2023-03-01          00:07:47   \n",
       "4   1523115                16.176984        2023-03-01          00:09:03   \n",
       "\n",
       "  order_delivered_date order_delivered_time time_period  \n",
       "0           2023-03-01      00:18:07.443132       night  \n",
       "1           2023-03-01      00:19:34.925241       night  \n",
       "2           2023-03-01      00:22:28.291385       night  \n",
       "3           2023-03-01      00:46:19.019399       night  \n",
       "4           2023-03-01      00:25:13.619056       night  "
      ]
     },
     "execution_count": 31,
     "metadata": {},
     "output_type": "execute_result"
    }
   ],
   "source": [
    "df.head()"
   ]
  },
  {
   "cell_type": "code",
   "execution_count": 32,
   "metadata": {
    "colab": {
     "base_uri": "https://localhost:8080/"
    },
    "id": "hhJ_AtUt_E02",
    "outputId": "11e11c3a-f3ea-4c33-b059-ea5de2d6527f"
   },
   "outputs": [
    {
     "data": {
      "text/plain": [
       "order_id                     int64\n",
       "time_taken_for_delivery    float64\n",
       "order_placed_date           object\n",
       "order_placed_time           object\n",
       "order_delivered_date        object\n",
       "order_delivered_time        object\n",
       "time_period                 object\n",
       "dtype: object"
      ]
     },
     "execution_count": 32,
     "metadata": {},
     "output_type": "execute_result"
    }
   ],
   "source": [
    "df.dtypes"
   ]
  },
  {
   "cell_type": "code",
   "execution_count": 33,
   "metadata": {
    "id": "5O2VNcp-tw3l"
   },
   "outputs": [],
   "source": [
    "df['order_placed_day'] =  pd.to_datetime(df['order_placed_date']).dt.day_name()"
   ]
  },
  {
   "cell_type": "code",
   "execution_count": 34,
   "metadata": {
    "id": "VmjoZAMQu4Pk"
   },
   "outputs": [],
   "source": [
    "df['order_delivered_day'] =  pd.to_datetime(df['order_delivered_date']).dt.day_name()"
   ]
  },
  {
   "cell_type": "code",
   "execution_count": 35,
   "metadata": {
    "colab": {
     "base_uri": "https://localhost:8080/",
     "height": 206
    },
    "id": "E7WN2ZXlu_uO",
    "outputId": "84cef0f0-7c6d-4dd9-8bb7-3efc75d736b6"
   },
   "outputs": [
    {
     "data": {
      "text/html": [
       "<div>\n",
       "<style scoped>\n",
       "    .dataframe tbody tr th:only-of-type {\n",
       "        vertical-align: middle;\n",
       "    }\n",
       "\n",
       "    .dataframe tbody tr th {\n",
       "        vertical-align: top;\n",
       "    }\n",
       "\n",
       "    .dataframe thead th {\n",
       "        text-align: right;\n",
       "    }\n",
       "</style>\n",
       "<table border=\"1\" class=\"dataframe\">\n",
       "  <thead>\n",
       "    <tr style=\"text-align: right;\">\n",
       "      <th></th>\n",
       "      <th>order_id</th>\n",
       "      <th>time_taken_for_delivery</th>\n",
       "      <th>order_placed_date</th>\n",
       "      <th>order_placed_time</th>\n",
       "      <th>order_delivered_date</th>\n",
       "      <th>order_delivered_time</th>\n",
       "      <th>time_period</th>\n",
       "      <th>order_placed_day</th>\n",
       "      <th>order_delivered_day</th>\n",
       "    </tr>\n",
       "  </thead>\n",
       "  <tbody>\n",
       "    <tr>\n",
       "      <th>0</th>\n",
       "      <td>1523111</td>\n",
       "      <td>17.140719</td>\n",
       "      <td>2023-03-01</td>\n",
       "      <td>00:00:59</td>\n",
       "      <td>2023-03-01</td>\n",
       "      <td>00:18:07.443132</td>\n",
       "      <td>night</td>\n",
       "      <td>Wednesday</td>\n",
       "      <td>Wednesday</td>\n",
       "    </tr>\n",
       "    <tr>\n",
       "      <th>1</th>\n",
       "      <td>1523112</td>\n",
       "      <td>15.598754</td>\n",
       "      <td>2023-03-01</td>\n",
       "      <td>00:03:59</td>\n",
       "      <td>2023-03-01</td>\n",
       "      <td>00:19:34.925241</td>\n",
       "      <td>night</td>\n",
       "      <td>Wednesday</td>\n",
       "      <td>Wednesday</td>\n",
       "    </tr>\n",
       "    <tr>\n",
       "      <th>2</th>\n",
       "      <td>1523113</td>\n",
       "      <td>15.104856</td>\n",
       "      <td>2023-03-01</td>\n",
       "      <td>00:07:22</td>\n",
       "      <td>2023-03-01</td>\n",
       "      <td>00:22:28.291385</td>\n",
       "      <td>night</td>\n",
       "      <td>Wednesday</td>\n",
       "      <td>Wednesday</td>\n",
       "    </tr>\n",
       "    <tr>\n",
       "      <th>3</th>\n",
       "      <td>1523114</td>\n",
       "      <td>38.533657</td>\n",
       "      <td>2023-03-01</td>\n",
       "      <td>00:07:47</td>\n",
       "      <td>2023-03-01</td>\n",
       "      <td>00:46:19.019399</td>\n",
       "      <td>night</td>\n",
       "      <td>Wednesday</td>\n",
       "      <td>Wednesday</td>\n",
       "    </tr>\n",
       "    <tr>\n",
       "      <th>4</th>\n",
       "      <td>1523115</td>\n",
       "      <td>16.176984</td>\n",
       "      <td>2023-03-01</td>\n",
       "      <td>00:09:03</td>\n",
       "      <td>2023-03-01</td>\n",
       "      <td>00:25:13.619056</td>\n",
       "      <td>night</td>\n",
       "      <td>Wednesday</td>\n",
       "      <td>Wednesday</td>\n",
       "    </tr>\n",
       "  </tbody>\n",
       "</table>\n",
       "</div>"
      ],
      "text/plain": [
       "   order_id  time_taken_for_delivery order_placed_date order_placed_time  \\\n",
       "0   1523111                17.140719        2023-03-01          00:00:59   \n",
       "1   1523112                15.598754        2023-03-01          00:03:59   \n",
       "2   1523113                15.104856        2023-03-01          00:07:22   \n",
       "3   1523114                38.533657        2023-03-01          00:07:47   \n",
       "4   1523115                16.176984        2023-03-01          00:09:03   \n",
       "\n",
       "  order_delivered_date order_delivered_time time_period order_placed_day  \\\n",
       "0           2023-03-01      00:18:07.443132       night        Wednesday   \n",
       "1           2023-03-01      00:19:34.925241       night        Wednesday   \n",
       "2           2023-03-01      00:22:28.291385       night        Wednesday   \n",
       "3           2023-03-01      00:46:19.019399       night        Wednesday   \n",
       "4           2023-03-01      00:25:13.619056       night        Wednesday   \n",
       "\n",
       "  order_delivered_day  \n",
       "0           Wednesday  \n",
       "1           Wednesday  \n",
       "2           Wednesday  \n",
       "3           Wednesday  \n",
       "4           Wednesday  "
      ]
     },
     "execution_count": 35,
     "metadata": {},
     "output_type": "execute_result"
    }
   ],
   "source": [
    "df.head()"
   ]
  },
  {
   "cell_type": "markdown",
   "metadata": {
    "id": "grvY-VxYAAEb"
   },
   "source": [
    "## Report \n",
    "\n",
    "Anyways delivery time will never be more than 2hr\n",
    "\n",
    "but if customer placed order at 23.50 delivary will be reached on next day that's why we created order_delivered_day feature else order_placed_day feature is enough"
   ]
  },
  {
   "cell_type": "markdown",
   "metadata": {
    "id": "zfHLiMJy10Cc"
   },
   "source": [
    "## **Countplot for order_placed_day**\n"
   ]
  },
  {
   "cell_type": "code",
   "execution_count": 36,
   "metadata": {
    "colab": {
     "base_uri": "https://localhost:8080/"
    },
    "id": "T8lynDDID7AX",
    "outputId": "325be28e-4fd1-4717-9ecb-a7566f981a37"
   },
   "outputs": [
    {
     "data": {
      "text/plain": [
       "Thursday     2280\n",
       "Wednesday    2259\n",
       "Monday       2256\n",
       "Friday       2223\n",
       "Saturday     2209\n",
       "Sunday       2191\n",
       "Tuesday      1582\n",
       "Name: order_placed_day, dtype: int64"
      ]
     },
     "execution_count": 36,
     "metadata": {},
     "output_type": "execute_result"
    }
   ],
   "source": [
    "df['order_placed_day'].value_counts()"
   ]
  },
  {
   "cell_type": "code",
   "execution_count": 37,
   "metadata": {
    "colab": {
     "base_uri": "https://localhost:8080/",
     "height": 482
    },
    "id": "h6YSrvEUBIEE",
    "outputId": "09884fe1-f104-4ba1-fceb-4fc6e068339d"
   },
   "outputs": [
    {
     "data": {
      "text/plain": [
       "<AxesSubplot:xlabel='order_placed_day', ylabel='Count'>"
      ]
     },
     "execution_count": 37,
     "metadata": {},
     "output_type": "execute_result"
    },
    {
     "data": {
      "image/png": "[encoded data removed]",
      "text/plain": [
       "<Figure size 576x360 with 1 Axes>"
      ]
     },
     "metadata": {
      "needs_background": "light"
     },
     "output_type": "display_data"
    }
   ],
   "source": [
    "#countplot for feature order_placed_day\n",
    "plt.figure(figsize=(8,5))\n",
    "sns.histplot(df['order_placed_day'])"
   ]
  },
  {
   "cell_type": "markdown",
   "metadata": {
    "id": "9YbIjIIt2v1Y"
   },
   "source": [
    "## **Report**\n",
    "\n",
    "Except **Tuesday** all others day has appox equal number of ordered placed\n",
    "\n",
    "\n",
    "On Tuesday we can give some discount to customers so we can increase ordered on that day to"
   ]
  },
  {
   "cell_type": "code",
   "execution_count": 38,
   "metadata": {
    "colab": {
     "base_uri": "https://localhost:8080/",
     "height": 81
    },
    "id": "V38gSwXb1eI4",
    "outputId": "d6166d31-8730-4438-add1-ff97c9f16577"
   },
   "outputs": [
    {
     "data": {
      "text/html": [
       "<div>\n",
       "<style scoped>\n",
       "    .dataframe tbody tr th:only-of-type {\n",
       "        vertical-align: middle;\n",
       "    }\n",
       "\n",
       "    .dataframe tbody tr th {\n",
       "        vertical-align: top;\n",
       "    }\n",
       "\n",
       "    .dataframe thead th {\n",
       "        text-align: right;\n",
       "    }\n",
       "</style>\n",
       "<table border=\"1\" class=\"dataframe\">\n",
       "  <thead>\n",
       "    <tr style=\"text-align: right;\">\n",
       "      <th></th>\n",
       "      <th>order_id</th>\n",
       "      <th>time_taken_for_delivery</th>\n",
       "      <th>order_placed_date</th>\n",
       "      <th>order_placed_time</th>\n",
       "      <th>order_delivered_date</th>\n",
       "      <th>order_delivered_time</th>\n",
       "      <th>time_period</th>\n",
       "      <th>order_placed_day</th>\n",
       "      <th>order_delivered_day</th>\n",
       "    </tr>\n",
       "  </thead>\n",
       "  <tbody>\n",
       "    <tr>\n",
       "      <th>0</th>\n",
       "      <td>1523111</td>\n",
       "      <td>17.140719</td>\n",
       "      <td>2023-03-01</td>\n",
       "      <td>00:00:59</td>\n",
       "      <td>2023-03-01</td>\n",
       "      <td>00:18:07.443132</td>\n",
       "      <td>night</td>\n",
       "      <td>Wednesday</td>\n",
       "      <td>Wednesday</td>\n",
       "    </tr>\n",
       "  </tbody>\n",
       "</table>\n",
       "</div>"
      ],
      "text/plain": [
       "   order_id  time_taken_for_delivery order_placed_date order_placed_time  \\\n",
       "0   1523111                17.140719        2023-03-01          00:00:59   \n",
       "\n",
       "  order_delivered_date order_delivered_time time_period order_placed_day  \\\n",
       "0           2023-03-01      00:18:07.443132       night        Wednesday   \n",
       "\n",
       "  order_delivered_day  \n",
       "0           Wednesday  "
      ]
     },
     "execution_count": 38,
     "metadata": {},
     "output_type": "execute_result"
    }
   ],
   "source": [
    "df.head(1)"
   ]
  },
  {
   "cell_type": "code",
   "execution_count": 39,
   "metadata": {
    "colab": {
     "base_uri": "https://localhost:8080/"
    },
    "id": "Gh9a_Auh98SY",
    "outputId": "f00ccabc-c029-4e10-bd90-103a5e707562"
   },
   "outputs": [
    {
     "data": {
      "text/plain": [
       "order_id                     int64\n",
       "time_taken_for_delivery    float64\n",
       "order_placed_date           object\n",
       "order_placed_time           object\n",
       "order_delivered_date        object\n",
       "order_delivered_time        object\n",
       "time_period                 object\n",
       "order_placed_day            object\n",
       "order_delivered_day         object\n",
       "dtype: object"
      ]
     },
     "execution_count": 39,
     "metadata": {},
     "output_type": "execute_result"
    }
   ],
   "source": [
    "df.dtypes"
   ]
  },
  {
   "cell_type": "code",
   "execution_count": 40,
   "metadata": {
    "colab": {
     "base_uri": "https://localhost:8080/"
    },
    "id": "LqorNcTKCKnQ",
    "outputId": "ca0baa12-19fb-44b6-8db3-8ee9d7f1d860"
   },
   "outputs": [
    {
     "data": {
      "text/plain": [
       "15.000010333333334"
      ]
     },
     "execution_count": 40,
     "metadata": {},
     "output_type": "execute_result"
    }
   ],
   "source": [
    "#analysing feature time_taken_for_delivery\n",
    "df['time_taken_for_delivery'].min()"
   ]
  },
  {
   "cell_type": "code",
   "execution_count": 41,
   "metadata": {
    "colab": {
     "base_uri": "https://localhost:8080/"
    },
    "id": "9lrXD_HuF43L",
    "outputId": "28ac789d-3efd-44ac-f5ef-f85dcb809c21"
   },
   "outputs": [
    {
     "data": {
      "text/plain": [
       "20.499389326467746"
      ]
     },
     "execution_count": 41,
     "metadata": {},
     "output_type": "execute_result"
    }
   ],
   "source": [
    "df['time_taken_for_delivery'].mean()"
   ]
  },
  {
   "cell_type": "code",
   "execution_count": 42,
   "metadata": {
    "colab": {
     "base_uri": "https://localhost:8080/"
    },
    "id": "pDsa6Y2GG8d5",
    "outputId": "60cc586f-2110-423c-e5c0-f7ca2f91e1ba"
   },
   "outputs": [
    {
     "data": {
      "text/plain": [
       "15.797986066666667"
      ]
     },
     "execution_count": 42,
     "metadata": {},
     "output_type": "execute_result"
    }
   ],
   "source": [
    "df['time_taken_for_delivery'].median()"
   ]
  },
  {
   "cell_type": "code",
   "execution_count": 43,
   "metadata": {
    "colab": {
     "base_uri": "https://localhost:8080/"
    },
    "id": "dy5tfZMrHAXV",
    "outputId": "1505a2a8-c248-4ab9-b797-89ff6037287a"
   },
   "outputs": [
    {
     "data": {
      "text/plain": [
       "7299.831374933333"
      ]
     },
     "execution_count": 43,
     "metadata": {},
     "output_type": "execute_result"
    }
   ],
   "source": [
    "df['time_taken_for_delivery'].max()"
   ]
  },
  {
   "cell_type": "code",
   "execution_count": 44,
   "metadata": {
    "colab": {
     "base_uri": "https://localhost:8080/"
    },
    "id": "j6wbjiNfHMUb",
    "outputId": "71cf00c2-769e-405a-f398-72b16cf7b45f"
   },
   "outputs": [
    {
     "data": {
      "text/plain": [
       "27.261043996666658"
      ]
     },
     "execution_count": 44,
     "metadata": {},
     "output_type": "execute_result"
    }
   ],
   "source": [
    "df['time_taken_for_delivery'].quantile(0.95)"
   ]
  },
  {
   "cell_type": "code",
   "execution_count": 45,
   "metadata": {
    "colab": {
     "base_uri": "https://localhost:8080/"
    },
    "id": "tWoAY-dSHpVY",
    "outputId": "c536c6d8-2ba0-427a-fca7-41133619c9ed"
   },
   "outputs": [
    {
     "name": "stdout",
     "output_type": "stream",
     "text": [
      "Out of 15k deliveries 604 deliveries are late\n"
     ]
    }
   ],
   "source": [
    "count=0\n",
    "for i in df['time_taken_for_delivery']:\n",
    "  if i > 30.00:\n",
    "    count=count+1\n",
    "print(f\"Out of 15k deliveries {count} deliveries are late\")\n",
    "    "
   ]
  },
  {
   "cell_type": "code",
   "execution_count": 46,
   "metadata": {
    "colab": {
     "base_uri": "https://localhost:8080/"
    },
    "id": "wUGKxK0OIThL",
    "outputId": "7d016ee5-982e-4803-d228-d9c5bd1c53eb"
   },
   "outputs": [
    {
     "data": {
      "text/plain": [
       "(15000, 9)"
      ]
     },
     "execution_count": 46,
     "metadata": {},
     "output_type": "execute_result"
    }
   ],
   "source": [
    "df.shape"
   ]
  },
  {
   "cell_type": "code",
   "execution_count": 47,
   "metadata": {
    "colab": {
     "base_uri": "https://localhost:8080/"
    },
    "id": "162qyjC6IntQ",
    "outputId": "562c9821-dbde-417a-97de-1d1daa52cadc"
   },
   "outputs": [
    {
     "data": {
      "text/plain": [
       "4.026666666666666"
      ]
     },
     "execution_count": 47,
     "metadata": {},
     "output_type": "execute_result"
    }
   ],
   "source": [
    "(604/df.shape[0])*100"
   ]
  },
  {
   "cell_type": "code",
   "execution_count": 48,
   "metadata": {
    "colab": {
     "base_uri": "https://localhost:8080/",
     "height": 206
    },
    "id": "xtMkqDBMIthP",
    "outputId": "56a2f5ea-f8df-4f18-ddbd-747d2aab6cac",
    "scrolled": true
   },
   "outputs": [
    {
     "data": {
      "text/html": [
       "<div>\n",
       "<style scoped>\n",
       "    .dataframe tbody tr th:only-of-type {\n",
       "        vertical-align: middle;\n",
       "    }\n",
       "\n",
       "    .dataframe tbody tr th {\n",
       "        vertical-align: top;\n",
       "    }\n",
       "\n",
       "    .dataframe thead th {\n",
       "        text-align: right;\n",
       "    }\n",
       "</style>\n",
       "<table border=\"1\" class=\"dataframe\">\n",
       "  <thead>\n",
       "    <tr style=\"text-align: right;\">\n",
       "      <th></th>\n",
       "      <th>order_id</th>\n",
       "      <th>time_taken_for_delivery</th>\n",
       "      <th>order_placed_date</th>\n",
       "      <th>order_placed_time</th>\n",
       "      <th>order_delivered_date</th>\n",
       "      <th>order_delivered_time</th>\n",
       "      <th>time_period</th>\n",
       "      <th>order_placed_day</th>\n",
       "      <th>order_delivered_day</th>\n",
       "    </tr>\n",
       "  </thead>\n",
       "  <tbody>\n",
       "    <tr>\n",
       "      <th>4165</th>\n",
       "      <td>1527276</td>\n",
       "      <td>5867.434753</td>\n",
       "      <td>2023-03-08</td>\n",
       "      <td>09:46:43</td>\n",
       "      <td>2023-03-12</td>\n",
       "      <td>11:34:09.085175</td>\n",
       "      <td>Morning</td>\n",
       "      <td>Wednesday</td>\n",
       "      <td>Sunday</td>\n",
       "    </tr>\n",
       "    <tr>\n",
       "      <th>5499</th>\n",
       "      <td>1528610</td>\n",
       "      <td>7299.831375</td>\n",
       "      <td>2023-03-10</td>\n",
       "      <td>17:06:22</td>\n",
       "      <td>2023-03-15</td>\n",
       "      <td>18:46:11.882496</td>\n",
       "      <td>Evening</td>\n",
       "      <td>Friday</td>\n",
       "      <td>Wednesday</td>\n",
       "    </tr>\n",
       "    <tr>\n",
       "      <th>10007</th>\n",
       "      <td>1533118</td>\n",
       "      <td>2883.124250</td>\n",
       "      <td>2023-03-19</td>\n",
       "      <td>00:56:34</td>\n",
       "      <td>2023-03-21</td>\n",
       "      <td>00:59:41.454974</td>\n",
       "      <td>night</td>\n",
       "      <td>Sunday</td>\n",
       "      <td>Tuesday</td>\n",
       "    </tr>\n",
       "    <tr>\n",
       "      <th>10225</th>\n",
       "      <td>1533336</td>\n",
       "      <td>4485.891210</td>\n",
       "      <td>2023-03-19</td>\n",
       "      <td>11:07:32</td>\n",
       "      <td>2023-03-22</td>\n",
       "      <td>13:53:25.472592</td>\n",
       "      <td>Morning</td>\n",
       "      <td>Sunday</td>\n",
       "      <td>Wednesday</td>\n",
       "    </tr>\n",
       "    <tr>\n",
       "      <th>14155</th>\n",
       "      <td>1537266</td>\n",
       "      <td>3888.444088</td>\n",
       "      <td>2023-03-26</td>\n",
       "      <td>09:54:24</td>\n",
       "      <td>2023-03-29</td>\n",
       "      <td>02:42:50.645252</td>\n",
       "      <td>Morning</td>\n",
       "      <td>Sunday</td>\n",
       "      <td>Wednesday</td>\n",
       "    </tr>\n",
       "  </tbody>\n",
       "</table>\n",
       "</div>"
      ],
      "text/plain": [
       "       order_id  time_taken_for_delivery order_placed_date order_placed_time  \\\n",
       "4165    1527276              5867.434753        2023-03-08          09:46:43   \n",
       "5499    1528610              7299.831375        2023-03-10          17:06:22   \n",
       "10007   1533118              2883.124250        2023-03-19          00:56:34   \n",
       "10225   1533336              4485.891210        2023-03-19          11:07:32   \n",
       "14155   1537266              3888.444088        2023-03-26          09:54:24   \n",
       "\n",
       "      order_delivered_date order_delivered_time time_period order_placed_day  \\\n",
       "4165            2023-03-12      11:34:09.085175     Morning        Wednesday   \n",
       "5499            2023-03-15      18:46:11.882496     Evening           Friday   \n",
       "10007           2023-03-21      00:59:41.454974       night           Sunday   \n",
       "10225           2023-03-22      13:53:25.472592     Morning           Sunday   \n",
       "14155           2023-03-29      02:42:50.645252     Morning           Sunday   \n",
       "\n",
       "      order_delivered_day  \n",
       "4165               Sunday  \n",
       "5499            Wednesday  \n",
       "10007             Tuesday  \n",
       "10225           Wednesday  \n",
       "14155           Wednesday  "
      ]
     },
     "execution_count": 48,
     "metadata": {},
     "output_type": "execute_result"
    }
   ],
   "source": [
    "pd.set_option(\"display.max.rows\", None)\n",
    "df[df['time_taken_for_delivery']>1440]\n"
   ]
  },
  {
   "cell_type": "markdown",
   "metadata": {
    "id": "80NMDtEz78q4"
   },
   "source": [
    "Final report:\n",
    "\n",
    "\n",
    "1.The average orders = 555 \n",
    "\n",
    "2.maximum orders = 597 is on 20 march \n",
    "\n",
    "3.minimum orders = 492 is on 14 march\n",
    "\n",
    "4.average delivery time is more on sunday i.e 23.9 minutes\n",
    "\n",
    "5.minimum orders on Tuesday\n",
    "\n",
    "Conclusion:\n",
    "\n",
    "* We can put more delivery boys in morning and afternoon as the number of orders are more\n",
    "* We can give some discounts on Tuesday to increase the number of order\n",
    "\n",
    "\n",
    "\n"
   ]
  },
  {
   "cell_type": "code",
   "execution_count": null,
   "metadata": {},
   "outputs": [],
   "source": []
  }
 ],
 "metadata": {
  "colab": {
   "provenance": []
  },
  "kernelspec": {
   "display_name": "Python 3",
   "language": "python",
   "name": "python3"
  },
  "language_info": {
   "codemirror_mode": {
    "name": "ipython",
    "version": 3
   },
   "file_extension": ".py",
   "mimetype": "text/x-python",
   "name": "python",
   "nbconvert_exporter": "python",
   "pygments_lexer": "ipython3",
   "version": "3.8.8"
  }
 },
 "nbformat": 4,
 "nbformat_minor": 1
}
