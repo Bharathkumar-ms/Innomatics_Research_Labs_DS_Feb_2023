{
 "cells": [
  {
   "cell_type": "markdown",
   "id": "cac5eddd",
   "metadata": {},
   "source": [
    "# Innomatics -Task: 1"
   ]
  },
  {
   "cell_type": "code",
   "execution_count": 128,
   "id": "0052a224",
   "metadata": {},
   "outputs": [],
   "source": [
    "import pandas as pd\n",
    "import numpy as np\n",
    "import matplotlib.pyplot as plt\n",
    "%matplotlib inline\n",
    "import seaborn as sns\n",
    "\n",
    "## Display all the columns of the dataframes\n",
    "pd.pandas.set_option('display.max_columns',None)"
   ]
  },
  {
   "cell_type": "code",
   "execution_count": 129,
   "id": "e39a6c78",
   "metadata": {},
   "outputs": [],
   "source": [
    "df=pd.read_csv(r\"C:\\Users\\bhara\\Downloads\\scores_data.csv\")"
   ]
  },
  {
   "cell_type": "code",
   "execution_count": 130,
   "id": "f6493787",
   "metadata": {},
   "outputs": [
    {
     "data": {
      "text/html": [
       "<div>\n",
       "<style scoped>\n",
       "    .dataframe tbody tr th:only-of-type {\n",
       "        vertical-align: middle;\n",
       "    }\n",
       "\n",
       "    .dataframe tbody tr th {\n",
       "        vertical-align: top;\n",
       "    }\n",
       "\n",
       "    .dataframe thead th {\n",
       "        text-align: right;\n",
       "    }\n",
       "</style>\n",
       "<table border=\"1\" class=\"dataframe\">\n",
       "  <thead>\n",
       "    <tr style=\"text-align: right;\">\n",
       "      <th></th>\n",
       "      <th>Batch</th>\n",
       "      <th>User_ID</th>\n",
       "      <th>Score</th>\n",
       "    </tr>\n",
       "  </thead>\n",
       "  <tbody>\n",
       "    <tr>\n",
       "      <th>0</th>\n",
       "      <td>AI_ELITE_7</td>\n",
       "      <td>uid_149</td>\n",
       "      <td>6 / 7</td>\n",
       "    </tr>\n",
       "    <tr>\n",
       "      <th>1</th>\n",
       "      <td>AI_ELITE_7</td>\n",
       "      <td>uid_148</td>\n",
       "      <td>6 / 7</td>\n",
       "    </tr>\n",
       "    <tr>\n",
       "      <th>2</th>\n",
       "      <td>AI_ELITE_7</td>\n",
       "      <td>uid_147</td>\n",
       "      <td>7 / 7</td>\n",
       "    </tr>\n",
       "    <tr>\n",
       "      <th>3</th>\n",
       "      <td>AI_ELITE_7</td>\n",
       "      <td>uid_146</td>\n",
       "      <td>7 / 7</td>\n",
       "    </tr>\n",
       "    <tr>\n",
       "      <th>4</th>\n",
       "      <td>AI_ELITE_7</td>\n",
       "      <td>uid_145</td>\n",
       "      <td>4 / 7</td>\n",
       "    </tr>\n",
       "  </tbody>\n",
       "</table>\n",
       "</div>"
      ],
      "text/plain": [
       "       Batch  User_ID     Score   \n",
       "0  AI_ELITE_7  uid_149       6 / 7\n",
       "1  AI_ELITE_7  uid_148       6 / 7\n",
       "2  AI_ELITE_7  uid_147       7 / 7\n",
       "3  AI_ELITE_7  uid_146       7 / 7\n",
       "4  AI_ELITE_7  uid_145       4 / 7"
      ]
     },
     "execution_count": 130,
     "metadata": {},
     "output_type": "execute_result"
    }
   ],
   "source": [
    "df.head()"
   ]
  },
  {
   "cell_type": "code",
   "execution_count": 131,
   "id": "e29ff600",
   "metadata": {},
   "outputs": [
    {
     "data": {
      "text/plain": [
       "Index(['Batch ', 'User_ID ', '   Score   '], dtype='object')"
      ]
     },
     "execution_count": 131,
     "metadata": {},
     "output_type": "execute_result"
    }
   ],
   "source": [
    "df.columns"
   ]
  },
  {
   "cell_type": "code",
   "execution_count": 132,
   "id": "d03cb90b",
   "metadata": {},
   "outputs": [
    {
     "data": {
      "text/plain": [
       "(149, 3)"
      ]
     },
     "execution_count": 132,
     "metadata": {},
     "output_type": "execute_result"
    }
   ],
   "source": [
    "df.shape"
   ]
  },
  {
   "cell_type": "code",
   "execution_count": 133,
   "id": "60dec953",
   "metadata": {},
   "outputs": [
    {
     "name": "stdout",
     "output_type": "stream",
     "text": [
      "<class 'pandas.core.frame.DataFrame'>\n",
      "RangeIndex: 149 entries, 0 to 148\n",
      "Data columns (total 3 columns):\n",
      " #   Column       Non-Null Count  Dtype \n",
      "---  ------       --------------  ----- \n",
      " 0   Batch        149 non-null    object\n",
      " 1   User_ID      149 non-null    object\n",
      " 2      Score     149 non-null    object\n",
      "dtypes: object(3)\n",
      "memory usage: 3.6+ KB\n"
     ]
    }
   ],
   "source": [
    "df.info()"
   ]
  },
  {
   "cell_type": "code",
   "execution_count": 134,
   "id": "9c664c1b",
   "metadata": {
    "scrolled": false
   },
   "outputs": [
    {
     "data": {
      "text/html": [
       "<div>\n",
       "<style scoped>\n",
       "    .dataframe tbody tr th:only-of-type {\n",
       "        vertical-align: middle;\n",
       "    }\n",
       "\n",
       "    .dataframe tbody tr th {\n",
       "        vertical-align: top;\n",
       "    }\n",
       "\n",
       "    .dataframe thead th {\n",
       "        text-align: right;\n",
       "    }\n",
       "</style>\n",
       "<table border=\"1\" class=\"dataframe\">\n",
       "  <thead>\n",
       "    <tr style=\"text-align: right;\">\n",
       "      <th></th>\n",
       "      <th>Batch</th>\n",
       "      <th>User_ID</th>\n",
       "      <th>Score</th>\n",
       "    </tr>\n",
       "  </thead>\n",
       "  <tbody>\n",
       "    <tr>\n",
       "      <th>count</th>\n",
       "      <td>149</td>\n",
       "      <td>149</td>\n",
       "      <td>149</td>\n",
       "    </tr>\n",
       "    <tr>\n",
       "      <th>unique</th>\n",
       "      <td>3</td>\n",
       "      <td>149</td>\n",
       "      <td>8</td>\n",
       "    </tr>\n",
       "    <tr>\n",
       "      <th>top</th>\n",
       "      <td>AI_ELITE_7</td>\n",
       "      <td>uid_149</td>\n",
       "      <td>4 / 7</td>\n",
       "    </tr>\n",
       "    <tr>\n",
       "      <th>freq</th>\n",
       "      <td>53</td>\n",
       "      <td>1</td>\n",
       "      <td>40</td>\n",
       "    </tr>\n",
       "  </tbody>\n",
       "</table>\n",
       "</div>"
      ],
      "text/plain": [
       "            Batch  User_ID     Score   \n",
       "count          149      149         149\n",
       "unique           3      149           8\n",
       "top     AI_ELITE_7  uid_149       4 / 7\n",
       "freq            53        1          40"
      ]
     },
     "execution_count": 134,
     "metadata": {},
     "output_type": "execute_result"
    }
   ],
   "source": [
    "df.describe()"
   ]
  },
  {
   "cell_type": "code",
   "execution_count": 135,
   "id": "c6d3bcd6",
   "metadata": {},
   "outputs": [],
   "source": [
    "df.columns = df.columns.str.strip()"
   ]
  },
  {
   "cell_type": "code",
   "execution_count": 136,
   "id": "7d3414be",
   "metadata": {},
   "outputs": [],
   "source": [
    "df['Score'] = df['Score'].str.replace(' / 7', '')"
   ]
  },
  {
   "cell_type": "code",
   "execution_count": 137,
   "id": "1d8ccd74",
   "metadata": {},
   "outputs": [
    {
     "data": {
      "text/plain": [
       "1"
      ]
     },
     "execution_count": 137,
     "metadata": {},
     "output_type": "execute_result"
    }
   ],
   "source": [
    "len(df['Score'] [0])"
   ]
  },
  {
   "cell_type": "code",
   "execution_count": 138,
   "id": "b918fd85",
   "metadata": {
    "scrolled": true
   },
   "outputs": [
    {
     "data": {
      "text/plain": [
       "0      6\n",
       "1      6\n",
       "2      7\n",
       "3      7\n",
       "4      4\n",
       "      ..\n",
       "144    4\n",
       "145    4\n",
       "146    4\n",
       "147    3\n",
       "148    2\n",
       "Name: Score, Length: 149, dtype: object"
      ]
     },
     "execution_count": 138,
     "metadata": {},
     "output_type": "execute_result"
    }
   ],
   "source": [
    "df['Score']"
   ]
  },
  {
   "cell_type": "code",
   "execution_count": 139,
   "id": "72947018",
   "metadata": {},
   "outputs": [
    {
     "data": {
      "text/plain": [
       "array(['AI_ELITE_7', 'AI_ELITE_6', 'AI_ELITE_4'], dtype=object)"
      ]
     },
     "execution_count": 139,
     "metadata": {},
     "output_type": "execute_result"
    }
   ],
   "source": [
    "df['Batch'].unique()"
   ]
  },
  {
   "cell_type": "code",
   "execution_count": 140,
   "id": "b88154f0",
   "metadata": {},
   "outputs": [
    {
     "data": {
      "text/plain": [
       "AI_ELITE_7    53\n",
       "AI_ELITE_6    48\n",
       "AI_ELITE_4    48\n",
       "Name: Batch, dtype: int64"
      ]
     },
     "execution_count": 140,
     "metadata": {},
     "output_type": "execute_result"
    }
   ],
   "source": [
    "df['Batch'].value_counts()\n"
   ]
  },
  {
   "cell_type": "code",
   "execution_count": 141,
   "id": "7899930b",
   "metadata": {
    "scrolled": true
   },
   "outputs": [
    {
     "data": {
      "text/plain": [
       "4    40\n",
       "5    32\n",
       "3    24\n",
       "6    18\n",
       "7    18\n",
       "2    12\n",
       "1     3\n",
       "0     2\n",
       "Name: Score, dtype: int64"
      ]
     },
     "execution_count": 141,
     "metadata": {},
     "output_type": "execute_result"
    }
   ],
   "source": [
    "df['Score'].value_counts()"
   ]
  },
  {
   "cell_type": "code",
   "execution_count": 142,
   "id": "542073c0",
   "metadata": {},
   "outputs": [],
   "source": [
    "df['Score'] = df['Score'].apply(lambda x: (int(x)/7)*100)"
   ]
  },
  {
   "cell_type": "code",
   "execution_count": 143,
   "id": "66d99b06",
   "metadata": {},
   "outputs": [],
   "source": [
    "df['Score'] = df['Score'].apply(lambda x: int(x))"
   ]
  },
  {
   "cell_type": "code",
   "execution_count": 144,
   "id": "a7355c9f",
   "metadata": {},
   "outputs": [
    {
     "data": {
      "text/plain": [
       "0       85\n",
       "1       85\n",
       "2      100\n",
       "3      100\n",
       "4       57\n",
       "      ... \n",
       "144     57\n",
       "145     57\n",
       "146     57\n",
       "147     42\n",
       "148     28\n",
       "Name: Score, Length: 149, dtype: int64"
      ]
     },
     "execution_count": 144,
     "metadata": {},
     "output_type": "execute_result"
    }
   ],
   "source": [
    "df['Score'] "
   ]
  },
  {
   "cell_type": "code",
   "execution_count": 145,
   "id": "5944074b",
   "metadata": {},
   "outputs": [
    {
     "data": {
      "text/plain": [
       "Batch\n",
       "AI_ELITE_4    53.791667\n",
       "AI_ELITE_6    60.000000\n",
       "AI_ELITE_7    71.811321\n",
       "Name: Score, dtype: float64"
      ]
     },
     "execution_count": 145,
     "metadata": {},
     "output_type": "execute_result"
    }
   ],
   "source": [
    "#average score of each batch:\n",
    "df.groupby('Batch')['Score'].mean()\n"
   ]
  },
  {
   "cell_type": "code",
   "execution_count": 146,
   "id": "fef3f23c",
   "metadata": {},
   "outputs": [],
   "source": [
    "# top 10 users with the highest scores"
   ]
  },
  {
   "cell_type": "code",
   "execution_count": 147,
   "id": "67bc74e7",
   "metadata": {},
   "outputs": [
    {
     "data": {
      "text/html": [
       "<div>\n",
       "<style scoped>\n",
       "    .dataframe tbody tr th:only-of-type {\n",
       "        vertical-align: middle;\n",
       "    }\n",
       "\n",
       "    .dataframe tbody tr th {\n",
       "        vertical-align: top;\n",
       "    }\n",
       "\n",
       "    .dataframe thead th {\n",
       "        text-align: right;\n",
       "    }\n",
       "</style>\n",
       "<table border=\"1\" class=\"dataframe\">\n",
       "  <thead>\n",
       "    <tr style=\"text-align: right;\">\n",
       "      <th></th>\n",
       "      <th>Batch</th>\n",
       "      <th>User_ID</th>\n",
       "      <th>Score</th>\n",
       "    </tr>\n",
       "  </thead>\n",
       "  <tbody>\n",
       "    <tr>\n",
       "      <th>74</th>\n",
       "      <td>AI_ELITE_6</td>\n",
       "      <td>uid_75</td>\n",
       "      <td>100</td>\n",
       "    </tr>\n",
       "    <tr>\n",
       "      <th>67</th>\n",
       "      <td>AI_ELITE_6</td>\n",
       "      <td>uid_82</td>\n",
       "      <td>100</td>\n",
       "    </tr>\n",
       "    <tr>\n",
       "      <th>16</th>\n",
       "      <td>AI_ELITE_7</td>\n",
       "      <td>uid_133</td>\n",
       "      <td>100</td>\n",
       "    </tr>\n",
       "    <tr>\n",
       "      <th>15</th>\n",
       "      <td>AI_ELITE_7</td>\n",
       "      <td>uid_134</td>\n",
       "      <td>100</td>\n",
       "    </tr>\n",
       "    <tr>\n",
       "      <th>24</th>\n",
       "      <td>AI_ELITE_7</td>\n",
       "      <td>uid_125</td>\n",
       "      <td>100</td>\n",
       "    </tr>\n",
       "    <tr>\n",
       "      <th>78</th>\n",
       "      <td>AI_ELITE_6</td>\n",
       "      <td>uid_71</td>\n",
       "      <td>100</td>\n",
       "    </tr>\n",
       "    <tr>\n",
       "      <th>19</th>\n",
       "      <td>AI_ELITE_7</td>\n",
       "      <td>uid_130</td>\n",
       "      <td>100</td>\n",
       "    </tr>\n",
       "    <tr>\n",
       "      <th>63</th>\n",
       "      <td>AI_ELITE_6</td>\n",
       "      <td>uid_86</td>\n",
       "      <td>100</td>\n",
       "    </tr>\n",
       "    <tr>\n",
       "      <th>98</th>\n",
       "      <td>AI_ELITE_6</td>\n",
       "      <td>uid_51</td>\n",
       "      <td>100</td>\n",
       "    </tr>\n",
       "    <tr>\n",
       "      <th>101</th>\n",
       "      <td>AI_ELITE_4</td>\n",
       "      <td>uid_48</td>\n",
       "      <td>100</td>\n",
       "    </tr>\n",
       "  </tbody>\n",
       "</table>\n",
       "</div>"
      ],
      "text/plain": [
       "          Batch  User_ID  Score\n",
       "74   AI_ELITE_6   uid_75    100\n",
       "67   AI_ELITE_6   uid_82    100\n",
       "16   AI_ELITE_7  uid_133    100\n",
       "15   AI_ELITE_7  uid_134    100\n",
       "24   AI_ELITE_7  uid_125    100\n",
       "78   AI_ELITE_6   uid_71    100\n",
       "19   AI_ELITE_7  uid_130    100\n",
       "63   AI_ELITE_6   uid_86    100\n",
       "98   AI_ELITE_6   uid_51    100\n",
       "101  AI_ELITE_4   uid_48    100"
      ]
     },
     "execution_count": 147,
     "metadata": {},
     "output_type": "execute_result"
    }
   ],
   "source": [
    "df.sort_values('Score', ascending=False).head(10)\n"
   ]
  },
  {
   "cell_type": "code",
   "execution_count": 148,
   "id": "e397c8a7",
   "metadata": {},
   "outputs": [],
   "source": [
    "# maximum score in each batch"
   ]
  },
  {
   "cell_type": "code",
   "execution_count": 109,
   "id": "7674314d",
   "metadata": {},
   "outputs": [
    {
     "data": {
      "text/plain": [
       "Batch\n",
       "AI_ELITE_4    100\n",
       "AI_ELITE_6    100\n",
       "AI_ELITE_7    100\n",
       "Name: Score, dtype: int64"
      ]
     },
     "execution_count": 109,
     "metadata": {},
     "output_type": "execute_result"
    }
   ],
   "source": [
    "df.groupby('Batch')['Score'].max()"
   ]
  },
  {
   "cell_type": "code",
   "execution_count": 110,
   "id": "d60dc0b3",
   "metadata": {},
   "outputs": [],
   "source": [
    "#the users who scored above a certain threshold:"
   ]
  },
  {
   "cell_type": "code",
   "execution_count": 111,
   "id": "3c5b1273",
   "metadata": {},
   "outputs": [
    {
     "data": {
      "text/html": [
       "<div>\n",
       "<style scoped>\n",
       "    .dataframe tbody tr th:only-of-type {\n",
       "        vertical-align: middle;\n",
       "    }\n",
       "\n",
       "    .dataframe tbody tr th {\n",
       "        vertical-align: top;\n",
       "    }\n",
       "\n",
       "    .dataframe thead th {\n",
       "        text-align: right;\n",
       "    }\n",
       "</style>\n",
       "<table border=\"1\" class=\"dataframe\">\n",
       "  <thead>\n",
       "    <tr style=\"text-align: right;\">\n",
       "      <th></th>\n",
       "      <th>Batch</th>\n",
       "      <th>User_ID</th>\n",
       "      <th>Score</th>\n",
       "    </tr>\n",
       "  </thead>\n",
       "  <tbody>\n",
       "    <tr>\n",
       "      <th>0</th>\n",
       "      <td>AI_ELITE_7</td>\n",
       "      <td>uid_149</td>\n",
       "      <td>85</td>\n",
       "    </tr>\n",
       "    <tr>\n",
       "      <th>1</th>\n",
       "      <td>AI_ELITE_7</td>\n",
       "      <td>uid_148</td>\n",
       "      <td>85</td>\n",
       "    </tr>\n",
       "    <tr>\n",
       "      <th>2</th>\n",
       "      <td>AI_ELITE_7</td>\n",
       "      <td>uid_147</td>\n",
       "      <td>100</td>\n",
       "    </tr>\n",
       "    <tr>\n",
       "      <th>3</th>\n",
       "      <td>AI_ELITE_7</td>\n",
       "      <td>uid_146</td>\n",
       "      <td>100</td>\n",
       "    </tr>\n",
       "    <tr>\n",
       "      <th>4</th>\n",
       "      <td>AI_ELITE_7</td>\n",
       "      <td>uid_145</td>\n",
       "      <td>57</td>\n",
       "    </tr>\n",
       "    <tr>\n",
       "      <th>...</th>\n",
       "      <td>...</td>\n",
       "      <td>...</td>\n",
       "      <td>...</td>\n",
       "    </tr>\n",
       "    <tr>\n",
       "      <th>143</th>\n",
       "      <td>AI_ELITE_4</td>\n",
       "      <td>uid_6</td>\n",
       "      <td>42</td>\n",
       "    </tr>\n",
       "    <tr>\n",
       "      <th>144</th>\n",
       "      <td>AI_ELITE_4</td>\n",
       "      <td>uid_5</td>\n",
       "      <td>57</td>\n",
       "    </tr>\n",
       "    <tr>\n",
       "      <th>145</th>\n",
       "      <td>AI_ELITE_4</td>\n",
       "      <td>uid_4</td>\n",
       "      <td>57</td>\n",
       "    </tr>\n",
       "    <tr>\n",
       "      <th>146</th>\n",
       "      <td>AI_ELITE_4</td>\n",
       "      <td>uid_3</td>\n",
       "      <td>57</td>\n",
       "    </tr>\n",
       "    <tr>\n",
       "      <th>147</th>\n",
       "      <td>AI_ELITE_4</td>\n",
       "      <td>uid_2</td>\n",
       "      <td>42</td>\n",
       "    </tr>\n",
       "  </tbody>\n",
       "</table>\n",
       "<p>132 rows × 3 columns</p>\n",
       "</div>"
      ],
      "text/plain": [
       "          Batch  User_ID  Score\n",
       "0    AI_ELITE_7  uid_149     85\n",
       "1    AI_ELITE_7  uid_148     85\n",
       "2    AI_ELITE_7  uid_147    100\n",
       "3    AI_ELITE_7  uid_146    100\n",
       "4    AI_ELITE_7  uid_145     57\n",
       "..          ...      ...    ...\n",
       "143  AI_ELITE_4    uid_6     42\n",
       "144  AI_ELITE_4    uid_5     57\n",
       "145  AI_ELITE_4    uid_4     57\n",
       "146  AI_ELITE_4    uid_3     57\n",
       "147  AI_ELITE_4    uid_2     42\n",
       "\n",
       "[132 rows x 3 columns]"
      ]
     },
     "execution_count": 111,
     "metadata": {},
     "output_type": "execute_result"
    }
   ],
   "source": [
    "df1=df[df['Score'] > 40]\n",
    "df1"
   ]
  },
  {
   "cell_type": "code",
   "execution_count": 115,
   "id": "4d5945a1",
   "metadata": {},
   "outputs": [],
   "source": [
    "#the number of users in each batch:"
   ]
  },
  {
   "cell_type": "code",
   "execution_count": 118,
   "id": "84ec63a9",
   "metadata": {
    "scrolled": true
   },
   "outputs": [
    {
     "data": {
      "text/plain": [
       "AI_ELITE_7    53\n",
       "AI_ELITE_6    48\n",
       "AI_ELITE_4    48\n",
       "Name: Batch, dtype: int64"
      ]
     },
     "execution_count": 118,
     "metadata": {},
     "output_type": "execute_result"
    }
   ],
   "source": [
    "df['Batch'].value_counts()\n"
   ]
  },
  {
   "cell_type": "code",
   "execution_count": 125,
   "id": "459e0a35",
   "metadata": {},
   "outputs": [
    {
     "data": {
      "text/plain": [
       "2      uid_147\n",
       "3      uid_146\n",
       "5      uid_144\n",
       "7      uid_142\n",
       "15     uid_134\n",
       "16     uid_133\n",
       "17     uid_132\n",
       "19     uid_130\n",
       "24     uid_125\n",
       "35     uid_114\n",
       "63      uid_86\n",
       "67      uid_82\n",
       "74      uid_75\n",
       "78      uid_71\n",
       "98      uid_51\n",
       "101     uid_48\n",
       "105     uid_44\n",
       "139     uid_10\n",
       "Name: User_ID, dtype: object"
      ]
     },
     "execution_count": 125,
     "metadata": {},
     "output_type": "execute_result"
    }
   ],
   "source": [
    "# list of user IDs of all the users who scored 100.\n",
    "df[df['Score'] == 100]['User_ID']"
   ]
  },
  {
   "cell_type": "code",
   "execution_count": 114,
   "id": "7488fd02",
   "metadata": {},
   "outputs": [
    {
     "data": {
      "image/png": "[encoded data removed]",
      "text/plain": [
       "<Figure size 432x288 with 1 Axes>"
      ]
     },
     "metadata": {
      "needs_background": "light"
     },
     "output_type": "display_data"
    }
   ],
   "source": [
    "import matplotlib.pyplot as plt\n",
    "\n",
    "plt.hist(df['Score'], bins=10)\n",
    "plt.xlabel('Score')\n",
    "plt.ylabel('Frequency')\n",
    "plt.title('Distribution of Scores')\n",
    "plt.show()\n"
   ]
  },
  {
   "cell_type": "code",
   "execution_count": 122,
   "id": "fab7a3b4",
   "metadata": {},
   "outputs": [
    {
     "data": {
      "image/png": "[encoded data removed]",
      "text/plain": [
       "<Figure size 432x288 with 1 Axes>"
      ]
     },
     "metadata": {
      "needs_background": "light"
     },
     "output_type": "display_data"
    }
   ],
   "source": [
    "import matplotlib.pyplot as plt\n",
    "\n",
    "mean_scores = df.groupby('Batch')['Score'].mean()\n",
    "mean_scores.plot(kind='bar')\n",
    "plt.xlabel('Batch')\n",
    "plt.ylabel('Mean Score')\n",
    "plt.title('Mean Scores by Batch')\n",
    "plt.show()\n"
   ]
  },
  {
   "cell_type": "code",
   "execution_count": 123,
   "id": "c85a9dec",
   "metadata": {},
   "outputs": [
    {
     "data": {
      "image/png": "[encoded data removed]",
      "text/plain": [
       "<Figure size 432x288 with 1 Axes>"
      ]
     },
     "metadata": {
      "needs_background": "light"
     },
     "output_type": "display_data"
    }
   ],
   "source": [
    "import seaborn as sns\n",
    "\n",
    "sns.boxplot(x='Batch', y='Score', data=df)\n",
    "plt.xlabel('Batch')\n",
    "plt.ylabel('Score')\n",
    "plt.title('Distribution of Scores by Batch')\n",
    "plt.show()\n"
   ]
  }
 ],
 "metadata": {
  "kernelspec": {
   "display_name": "Python 3",
   "language": "python",
   "name": "python3"
  },
  "language_info": {
   "codemirror_mode": {
    "name": "ipython",
    "version": 3
   },
   "file_extension": ".py",
   "mimetype": "text/x-python",
   "name": "python",
   "nbconvert_exporter": "python",
   "pygments_lexer": "ipython3",
   "version": "3.8.8"
  }
 },
 "nbformat": 4,
 "nbformat_minor": 5
}
